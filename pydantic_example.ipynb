{
 "cells": [
  {
   "cell_type": "markdown",
   "metadata": {},
   "source": [
    "# Pydantic Example\n",
    "\n",
    "In this notebook, some useful pydantic examples for DS and ML projects will be demostrated. To get full info on pydantic, read official docs: [Pydantic](https://docs.pydantic.dev/latest/)"
   ]
  },
  {
   "cell_type": "code",
   "execution_count": null,
   "metadata": {},
   "outputs": [],
   "source": [
    "import os\n",
    "import yaml\n",
    "from datetime import date, datetime\n",
    "from pathlib import Path\n",
    "from typing import Literal\n",
    "\n",
    "import pandas as pd\n",
    "from pydantic import (BaseModel, ConfigDict, DirectoryPath, Field, FilePath,\n",
    "                      HttpUrl, PastDate, PositiveInt, field_validator,\n",
    "                      validate_call)"
   ]
  },
  {
   "cell_type": "markdown",
   "metadata": {},
   "source": [
    "## Table of Contents\n",
    "\n",
    "1. [Simple Pydantic Model](#simple-pydantic-model)\n",
    "    - [Integer validation](#integer-validation)\n",
    "    - [Path validation](#path-validation)\n",
    "    - [Datetime parsing](#datetime-parsing)\n",
    "    - [**DIY**: Explore other built-in types validation](#diy-explore-other-built-in-types-validation)\n",
    "2. [Custom Validation](#custom-validation)\n",
    "    - [Custom types](#custom-types)\n",
    "    - [Custom validators](#custom-validators)\n",
    "    - [Custom validate \"before\" default validation](#custom-validate-before-default-validation)\n",
    "    - [**DIY**: Explore docs for supported types](#diy-explore-docs-for-supported-types)\n",
    "3. [Pydantic Configuration](#pydantic-configuration)\n",
    "    - [Common configuration](#common-configurations)\n",
    "    - [Counterexample of `extra=\"forbid\"`](#counterexample-of-extraforbid)\n",
    "    - [Counterexample of `validate_assignment=True`](#counterexample-of-validate_assignmenttrue)\n",
    "    - [**DIY**: Counterexample of `validate_default=True`](#diy-counterexample-of-validate_defaulttrue)\n",
    "4. [Nested Data & Serialization](#nested-data--serialization)\n",
    "    - [Nested Pydantic Model](#nested-pydantic-model)\n",
    "    - [Create pydantic model](#create-pydantic-model)\n",
    "    - [Export pydantic model](#export-pydantic-model)\n",
    "    - [**DIY**: Export pydantic model to JSON file](#diy-export-pydantic-model-to-json-file)\n",
    "5. [More Advanced Usage](#more-advanced-usage)\n",
    "    - [Hashable pydantic model](#hashable-pydantic-model)\n",
    "    - [Validate function input by type hints](#validate-function-input-by-type-hints)"
   ]
  },
  {
   "cell_type": "markdown",
   "metadata": {},
   "source": [
    "## Simple Pydantic Model\n",
    "\n",
    "Below is a simple pydantic model example, consider it as a config for a project. We will see examples for validation of each field one by one."
   ]
  },
  {
   "cell_type": "code",
   "execution_count": null,
   "metadata": {},
   "outputs": [],
   "source": [
    "class ExampleConfig(BaseModel):\n",
    "    model_config = ConfigDict(extra=\"forbid\", validate_assignment=True, validate_default=True)\n",
    "\n",
    "    data_format: Literal[\"DB\", \"SAP\"] = \"DB\"\n",
    "    input_path: DirectoryPath | FilePath = Path(\"requirements.txt\")\n",
    "    start_date: date = datetime.now().date()\n",
    "    window: int = 7"
   ]
  },
  {
   "cell_type": "markdown",
   "metadata": {},
   "source": [
    "### Integer Validation\n",
    "\n",
    "Pydantic will automatically cast the type (`str` to `int`, `float` to `int`), only when it is valid integer (`window=6.1` won't work)"
   ]
  },
  {
   "cell_type": "code",
   "execution_count": null,
   "metadata": {},
   "outputs": [],
   "source": [
    "\n",
    "print(ExampleConfig(window=6.0))\n",
    "print(ExampleConfig(window=\"5\"))\n",
    "print(ExampleConfig(window=\"6.0\"))\n",
    "# print(ExampleConfig(window=6.1))\n",
    "# print(ExampleConfig(window=\"6.1\"))"
   ]
  },
  {
   "cell_type": "markdown",
   "metadata": {},
   "source": [
    "### Path Validation\n",
    "\n",
    "Pydantic allows easy validation on FilePath or DirectoryPath. Validation error will raise if path not valid."
   ]
  },
  {
   "cell_type": "code",
   "execution_count": null,
   "metadata": {},
   "outputs": [],
   "source": [
    "print(type(ExampleConfig().input_path))\n",
    "print(ExampleConfig(input_path=r\"./requirements.txt\"))\n",
    "print(ExampleConfig(input_path=r\"./.venv\"))\n",
    "# print(ExampleConfig(input_path=\"not_exist.csv\"))"
   ]
  },
  {
   "cell_type": "markdown",
   "metadata": {},
   "source": [
    "### Datetime Parsing\n",
    "\n",
    "Datetime is easy to parse as well, as long as it is \"YYYY-MM-DD\" format"
   ]
  },
  {
   "cell_type": "code",
   "execution_count": null,
   "metadata": {},
   "outputs": [],
   "source": [
    "print(ExampleConfig(start_date=datetime.now().date()).start_date.day)\n",
    "print(ExampleConfig(start_date=\"2022-01-01\"))\n",
    "# print(ExampleConfig(start_date=\"2022/01/01\"))"
   ]
  },
  {
   "cell_type": "markdown",
   "metadata": {},
   "source": [
    "### **DIY**: Explore other built-in types validation\n",
    "\n",
    "Pydantic also has a lot more built-in types for validation. Try changing `window`, `start_date`, `data_format`, `item` values to pass/fail the validation."
   ]
  },
  {
   "cell_type": "code",
   "execution_count": null,
   "metadata": {},
   "outputs": [],
   "source": [
    "class NewConfig(BaseModel):\n",
    "    data_format: Literal['DB', 'SAP'] = \"DB\"\n",
    "    window: PositiveInt = 7\n",
    "    start_date: PastDate = date(2023, 11, 27)\n",
    "    item: int = Field(ge=0, le=255, default=2)\n",
    "\n",
    "print(\"NewConfig:\", NewConfig())"
   ]
  },
  {
   "cell_type": "markdown",
   "metadata": {},
   "source": [
    "## Custom Validation\n",
    "\n",
    "Pydantic allow a lot of customization, if built-in validation and types doesn't suit your needs. It is easy to implement custom validations."
   ]
  },
  {
   "cell_type": "markdown",
   "metadata": {},
   "source": [
    "### Custom Types\n",
    "\n",
    "There are data types are not built-in supported, such as pd.DataFrame, np.ndarray etc.\n",
    "\n",
    "Pydantic will validate the type of those type with `arbitrary_types_allow = True`. It will validate like this `assert type(something) == pd.DataFrame`\n",
    "\n",
    "If type are not in one of these in official doc, you need to set the `arbitrary_types_allow = True`\n",
    "\n",
    "- [Standard Library Types](https://docs.pydantic.dev/latest/api/standard_library_types/)\n",
    "- [Pydantic Types](https://docs.pydantic.dev/latest/api/types/)\n",
    "- [Network Types](https://docs.pydantic.dev/latest/api/networks/)"
   ]
  },
  {
   "cell_type": "code",
   "execution_count": null,
   "metadata": {},
   "outputs": [],
   "source": [
    "class CustomConfig(ExampleConfig, arbitrary_types_allowed=True):\n",
    "    df: pd.DataFrame\n",
    "\n",
    "print(CustomConfig(df=pd.DataFrame()))\n",
    "# print(CustomConfig(df=\"something\"))\n"
   ]
  },
  {
   "cell_type": "markdown",
   "metadata": {},
   "source": [
    "### Custom Validators\n",
    "\n",
    "If you want to do more than just validate the type, you can implement custom validators.\n",
    "\n",
    "You have to raise `ValueError` when validation fails, pydantic will catch it to raise ValidationError."
   ]
  },
  {
   "cell_type": "code",
   "execution_count": null,
   "metadata": {},
   "outputs": [],
   "source": [
    "class CustomConfig(ExampleConfig, arbitrary_types_allowed=True):\n",
    "    df: pd.DataFrame\n",
    "\n",
    "    @field_validator(\"df\")\n",
    "    def validate_df(cls, df: pd.DataFrame):\n",
    "        if df.empty:\n",
    "            raise ValueError(\"`df` shouldn't be Empty!\")\n",
    "        return df"
   ]
  },
  {
   "cell_type": "code",
   "execution_count": null,
   "metadata": {},
   "outputs": [],
   "source": [
    "print(CustomConfig(df=pd.DataFrame({'a': [1, 2, 3]})))\n",
    "# print(CustomConfig(df=pd.DataFrame()))"
   ]
  },
  {
   "cell_type": "markdown",
   "metadata": {},
   "source": [
    "### Custom validate \"before\" default validation\n",
    "\n",
    "Custsom validators default is \"after\" which means pydantic will run custom validator after default validator.\n",
    "\n",
    "In case like `output_path`, user could input a path that is not exist. Implement `\"before\"` custom validator to make the path, then validate it is a valid directory path."
   ]
  },
  {
   "cell_type": "code",
   "execution_count": null,
   "metadata": {},
   "outputs": [],
   "source": [
    "class CustomConfig(ExampleConfig):\n",
    "    output_path: DirectoryPath = Path(\"output\")\n",
    "\n",
    "    @field_validator(\"output_path\", mode=\"before\")\n",
    "    def validate_directory(cls, directory_path):\n",
    "        if not os.path.exists(directory_path):\n",
    "            os.makedirs(directory_path)\n",
    "        return directory_path"
   ]
  },
  {
   "cell_type": "code",
   "execution_count": null,
   "metadata": {},
   "outputs": [],
   "source": [
    "print(CustomConfig())"
   ]
  },
  {
   "cell_type": "markdown",
   "metadata": {},
   "source": [
    "### **DIY**: Explore docs for supported types\n",
    "\n",
    "- [Standard Library Types](https://docs.pydantic.dev/latest/api/standard_library_types/)\n",
    "- [Pydantic Types](https://docs.pydantic.dev/latest/api/types/)\n",
    "- [Network Types](https://docs.pydantic.dev/latest/api/networks/)"
   ]
  },
  {
   "cell_type": "markdown",
   "metadata": {},
   "source": [
    "## Pydantic Configuration\n",
    "\n",
    "Pydantic has configurations, see full list [here](https://docs.pydantic.dev/latest/api/config/). These configurations are used to control behaviours of pydantic validation."
   ]
  },
  {
   "cell_type": "markdown",
   "metadata": {},
   "source": [
    "### Common Configurations\n",
    "\n",
    "Here some common use configurations are summarized, examples are in later sections:\n",
    "\n",
    "- **extra**: `Literal[\"allow\", \"forbid\", \"ignore\"]` default is `\"ignore\"`, recommmend to set `\"forbid\"` all time.\n",
    "\n",
    "- **validate_assignment**: `bool`, default is `False`, recommend to set `True` all time.\n",
    "\n",
    "- **validate_default**: `bool`, default is `False`, set `True` if you also want to validate the default value.\n",
    "\n",
    "- **arbitrary_types_allowed**: `bool`, default is `False`, set `True` when you have not supported types (like pandas, numpy etc.).\n",
    "\n",
    "- **frozen**: `bool`, default is `False`, set  `True` when you want pydantic model to be hashable.\n"
   ]
  },
  {
   "cell_type": "code",
   "execution_count": null,
   "metadata": {},
   "outputs": [],
   "source": [
    "class Config(BaseModel, validate_assignment=True):\n",
    "    model_config = ConfigDict(extra=\"forbid\", validate_assignment=True, validate_default=True)\n",
    "\n",
    "    input_path: FilePath = Path(\"requirements.txt\")"
   ]
  },
  {
   "cell_type": "markdown",
   "metadata": {},
   "source": [
    "### Counterexample of `extra=\"forbid\"`\n",
    "\n",
    "When we didn't set `extra=\"forbid\"`:"
   ]
  },
  {
   "cell_type": "code",
   "execution_count": null,
   "metadata": {},
   "outputs": [],
   "source": [
    "class Config(BaseModel):\n",
    "    model_config = ConfigDict(extra=\"ignore\", validate_assignment=True, validate_default=True)\n",
    "\n",
    "    input_path: FilePath = Path(\"requirements.txt\")\n",
    "\n",
    "config = Config(inputs_path=\"requirements_2.txt\")\n",
    "print(config)"
   ]
  },
  {
   "cell_type": "markdown",
   "metadata": {},
   "source": [
    "### Counterexample of `validate_assignment=True`\n",
    "\n",
    "When we didn't set `validate_assignment=True`:"
   ]
  },
  {
   "cell_type": "code",
   "execution_count": null,
   "metadata": {},
   "outputs": [],
   "source": [
    "class Config(BaseModel):\n",
    "    model_config = ConfigDict(extra=\"forbid\", validate_assignment=False, validate_default=True)\n",
    "\n",
    "    input_path: FilePath = Path(\"requirements.txt\")\n",
    "\n",
    "config = Config()\n",
    "config.input_path = [123]\n",
    "print(config)"
   ]
  },
  {
   "cell_type": "markdown",
   "metadata": {},
   "source": [
    "### **DIY**: Counterexample of `validate_default=True`\n",
    "\n",
    "Try come up with counterexample for `validate_default` yourself!"
   ]
  },
  {
   "cell_type": "code",
   "execution_count": null,
   "metadata": {},
   "outputs": [],
   "source": [
    "class Config(BaseModel):\n",
    "    model_config = ConfigDict(extra=\"forbid\", validate_assignment=True, validate_default=True)\n",
    "\n",
    "    input_path: FilePath = Path(\"requirements.txt\")\n",
    "\n",
    "config = Config()\n",
    "print(config)"
   ]
  },
  {
   "cell_type": "markdown",
   "metadata": {},
   "source": [
    "## Nested Data & Serialization"
   ]
  },
  {
   "cell_type": "markdown",
   "metadata": {},
   "source": [
    "### Nested Pydantic Model\n",
    "\n",
    "Pydantic model can be nested, try avoid using dictionary for nested data, or passing dictionary with lots of keys use pydantic instead.\n"
   ]
  },
  {
   "cell_type": "code",
   "execution_count": null,
   "metadata": {},
   "outputs": [],
   "source": [
    "class BaseConfig(BaseModel):\n",
    "    model_config = ConfigDict(extra=\"forbid\", validate_assignment=True, validate_default=True)\n",
    "\n",
    "class DataConfig(BaseConfig):\n",
    "    data_format: Literal[\"DB\", \"SAP\"] = \"DB\"\n",
    "    input_path: DirectoryPath | FilePath = Path(\"requirements.txt\")\n",
    "    start_date: date = datetime.now().date()\n",
    "    window: int = 7\n",
    "\n",
    "class ModelConfig(BaseConfig):\n",
    "    num_estimators: int = 150\n",
    "    max_depth: int = 7\n",
    "\n",
    "class ProjectConfig(BaseConfig):\n",
    "    data: DataConfig=DataConfig(data_format=\"SAP\")\n",
    "    model: ModelConfig=ModelConfig()\n",
    "\n",
    "config = ProjectConfig()\n",
    "\n",
    "print(\"project_config:\", config)\n",
    "print(\"model.max_depth:\", config.model.max_depth)"
   ]
  },
  {
   "cell_type": "markdown",
   "metadata": {},
   "source": [
    "### Create pydantic model\n",
    "\n",
    "You can create an instance of pydantic model from Dictionary, YAML, JSON"
   ]
  },
  {
   "cell_type": "code",
   "execution_count": null,
   "metadata": {},
   "outputs": [],
   "source": [
    "config_dict = {\"data\": {\"data_format\": \"SAP\"}, \"model\": {\"max_depth\": 5}}\n",
    "project_config = ProjectConfig(**config_dict)\n",
    "print(project_config)"
   ]
  },
  {
   "cell_type": "code",
   "execution_count": null,
   "metadata": {},
   "outputs": [],
   "source": [
    "with open(\"config/project_config.yaml\", \"r\", encoding=\"utf-8\") as file:\n",
    "    data = yaml.load(file, Loader=yaml.FullLoader)\n",
    "config = ProjectConfig(**data)\n",
    "print(config)"
   ]
  },
  {
   "cell_type": "markdown",
   "metadata": {},
   "source": [
    "### Export pydantic model\n",
    "\n",
    "You can save pydantic object as Dictionary, YAML, JSON"
   ]
  },
  {
   "cell_type": "code",
   "execution_count": null,
   "metadata": {},
   "outputs": [],
   "source": [
    "config = ProjectConfig()\n",
    "print(config.model_dump())\n",
    "print(config.model_dump_json(indent=2))"
   ]
  },
  {
   "cell_type": "markdown",
   "metadata": {},
   "source": [
    "### **DIY**: Export pydantic model to JSON file"
   ]
  },
  {
   "cell_type": "code",
   "execution_count": null,
   "metadata": {},
   "outputs": [],
   "source": [
    "config = ProjectConfig()\n",
    "print(config.model_dump_json(indent=2))"
   ]
  },
  {
   "cell_type": "markdown",
   "metadata": {},
   "source": [
    "## More Advanced Usage"
   ]
  },
  {
   "cell_type": "markdown",
   "metadata": {},
   "source": [
    "### Hashable Pydantic Model\n",
    "\n",
    "You can make Pydantic hashable, that is it can be hashed as a key in dictionary, so that you will have a multi-level information indexed dictionary."
   ]
  },
  {
   "cell_type": "code",
   "execution_count": null,
   "metadata": {},
   "outputs": [],
   "source": [
    "class ModelConfig(BaseConfig, frozen=True):\n",
    "    num_estimators: int = 150\n",
    "    max_depth: int = 7\n",
    "\n",
    "class Model(BaseModel):\n",
    "    model_config = ConfigDict(extra=\"forbid\", validate_assignment=True, validate_default=True, frozen=True)\n",
    "    name: str\n",
    "    config: ModelConfig\n",
    "\n",
    "    def __hash__(self):\n",
    "        return hash((self.name, self.config))\n",
    "\n",
    "    def __eq__(self, other):\n",
    "        return (self.name, self.config) == (other.name, other.config)"
   ]
  },
  {
   "cell_type": "code",
   "execution_count": null,
   "metadata": {},
   "outputs": [],
   "source": [
    "running_models: dict[Model, HttpUrl] = {}\n",
    "\n",
    "model_example = Model(name=\"example\", config=ModelConfig())\n",
    "running_models[model_example] = \"http://www.example.com\"\n",
    "print(running_models[model_example])\n",
    "\n",
    "model_example_2 = Model(name=\"example\", config=ModelConfig(max_depth=6))\n",
    "running_models[model_example_2] = \"http://www.example2.com\"\n",
    "print(running_models)"
   ]
  },
  {
   "cell_type": "markdown",
   "metadata": {},
   "source": [
    "### Validate function input by type hints\n",
    "\n",
    "You can use pydantic's `validate_call` decorator, to validate all the input types in your type hints. `validate_call` also has configurations as discussed in previous sections."
   ]
  },
  {
   "cell_type": "code",
   "execution_count": null,
   "metadata": {},
   "outputs": [],
   "source": [
    "@validate_call(config=ConfigDict(arbitrary_types_allowed=True))\n",
    "def get_all_running_models(running_models: dict[Model, HttpUrl], dummy_df: pd.DataFrame):\n",
    "    return running_models.keys()\n",
    "\n",
    "print(get_all_running_models(running_models, dummy_df=pd.DataFrame()))\n",
    "print(get_all_running_models(running_models={model_example_2: \"http://example2.au\"}, dummy_df=pd.DataFrame()))\n",
    "# print(get_all_running_models(running_models, dummy_df=2))\n",
    "# print(get_all_running_models(running_models={\"model\": 2}, dummy_df=pd.DataFrame()))"
   ]
  }
 ],
 "metadata": {
  "kernelspec": {
   "display_name": ".venv",
   "language": "python",
   "name": "python3"
  },
  "language_info": {
   "codemirror_mode": {
    "name": "ipython",
    "version": 3
   },
   "file_extension": ".py",
   "mimetype": "text/x-python",
   "name": "python",
   "nbconvert_exporter": "python",
   "pygments_lexer": "ipython3",
   "version": "3.10.9"
  }
 },
 "nbformat": 4,
 "nbformat_minor": 2
}
